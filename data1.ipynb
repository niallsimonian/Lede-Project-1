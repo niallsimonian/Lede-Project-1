{
 "cells": [
  {
   "cell_type": "code",
   "execution_count": 1,
   "metadata": {},
   "outputs": [],
   "source": [
    "import pandas as pd"
   ]
  },
  {
   "cell_type": "code",
   "execution_count": 2,
   "metadata": {},
   "outputs": [
    {
     "data": {
      "text/plain": [
       "EventID               int64\n",
       "EventType            object\n",
       "StartDateTime        object\n",
       "EndDateTime          object\n",
       "EnteredOn            object\n",
       "EventAgency          object\n",
       "ParkingHeld          object\n",
       "Borough              object\n",
       "CommunityBoard(s)    object\n",
       "PolicePrecinct(s)    object\n",
       "Category             object\n",
       "SubCategoryName      object\n",
       "Country              object\n",
       "ZipCode(s)           object\n",
       "dtype: object"
      ]
     },
     "execution_count": 2,
     "metadata": {},
     "output_type": "execute_result"
    }
   ],
   "source": [
    "df = pd.read_csv('Film_Permits.csv')\n",
    "df.dtypes"
   ]
  },
  {
   "attachments": {},
   "cell_type": "markdown",
   "metadata": {},
   "source": [
    "Here, I am viewing the data types of my new dataframe. "
   ]
  },
  {
   "cell_type": "code",
   "execution_count": 3,
   "metadata": {},
   "outputs": [
    {
     "name": "stderr",
     "output_type": "stream",
     "text": [
      "/var/folders/7t/y824w4qx4hn59wfbz7sntshr0000gn/T/ipykernel_8191/3728984276.py:2: UserWarning: Could not infer format, so each element will be parsed individually, falling back to `dateutil`. To ensure parsing is consistent and as-expected, please specify a format.\n",
      "  df['EndDateTime'] = pd.to_datetime(df['EndDateTime'])\n"
     ]
    }
   ],
   "source": [
    "df['StartDateTime'] = pd.to_datetime(df['StartDateTime'])\n",
    "df['EndDateTime'] = pd.to_datetime(df['EndDateTime'])\n",
    "df = df.sort_values(by='StartDateTime')\n",
    "df = df.drop(columns=[\"ZipCode(s)\", \"EnteredOn\", \"EventAgency\", \"ParkingHeld\",\"CommunityBoard(s)\", \"PolicePrecinct(s)\", \"Country\", \"EventID\"])"
   ]
  },
  {
   "attachments": {},
   "cell_type": "markdown",
   "metadata": {},
   "source": [
    "Here, I converted the string objects of two columns to data.time format, so that I could sort the df by one of those columns. \n",
    "I then dropped some unnecessary columns (ones I wouldn't be analyzing). "
   ]
  },
  {
   "cell_type": "code",
   "execution_count": 4,
   "metadata": {},
   "outputs": [
    {
     "data": {
      "text/html": [
       "<div>\n",
       "<style scoped>\n",
       "    .dataframe tbody tr th:only-of-type {\n",
       "        vertical-align: middle;\n",
       "    }\n",
       "\n",
       "    .dataframe tbody tr th {\n",
       "        vertical-align: top;\n",
       "    }\n",
       "\n",
       "    .dataframe thead th {\n",
       "        text-align: right;\n",
       "    }\n",
       "</style>\n",
       "<table border=\"1\" class=\"dataframe\">\n",
       "  <thead>\n",
       "    <tr style=\"text-align: right;\">\n",
       "      <th></th>\n",
       "      <th>EventType</th>\n",
       "      <th>StartDateTime</th>\n",
       "      <th>EndDateTime</th>\n",
       "      <th>Borough</th>\n",
       "      <th>Category</th>\n",
       "      <th>SubCategoryName</th>\n",
       "    </tr>\n",
       "  </thead>\n",
       "  <tbody>\n",
       "    <tr>\n",
       "      <th>13288</th>\n",
       "      <td>Shooting Permit</td>\n",
       "      <td>2023-01-20 10:00:00</td>\n",
       "      <td>2023-01-20 23:00:00</td>\n",
       "      <td>Queens</td>\n",
       "      <td>Television</td>\n",
       "      <td>Episodic series</td>\n",
       "    </tr>\n",
       "    <tr>\n",
       "      <th>12779</th>\n",
       "      <td>Shooting Permit</td>\n",
       "      <td>2023-01-20 11:30:00</td>\n",
       "      <td>2023-01-21 01:00:00</td>\n",
       "      <td>Manhattan</td>\n",
       "      <td>Television</td>\n",
       "      <td>Episodic series</td>\n",
       "    </tr>\n",
       "    <tr>\n",
       "      <th>11060</th>\n",
       "      <td>Shooting Permit</td>\n",
       "      <td>2023-01-20 12:00:00</td>\n",
       "      <td>2023-01-21 02:00:00</td>\n",
       "      <td>Queens</td>\n",
       "      <td>Television</td>\n",
       "      <td>Episodic series</td>\n",
       "    </tr>\n",
       "    <tr>\n",
       "      <th>13451</th>\n",
       "      <td>Shooting Permit</td>\n",
       "      <td>2023-01-20 12:00:00</td>\n",
       "      <td>2023-01-20 23:00:00</td>\n",
       "      <td>Manhattan</td>\n",
       "      <td>Television</td>\n",
       "      <td>Episodic series</td>\n",
       "    </tr>\n",
       "    <tr>\n",
       "      <th>13500</th>\n",
       "      <td>Shooting Permit</td>\n",
       "      <td>2023-01-20 13:00:00</td>\n",
       "      <td>2023-01-21 03:00:00</td>\n",
       "      <td>Manhattan</td>\n",
       "      <td>Television</td>\n",
       "      <td>Cable-episodic</td>\n",
       "    </tr>\n",
       "  </tbody>\n",
       "</table>\n",
       "</div>"
      ],
      "text/plain": [
       "             EventType       StartDateTime         EndDateTime    Borough  \\\n",
       "13288  Shooting Permit 2023-01-20 10:00:00 2023-01-20 23:00:00     Queens   \n",
       "12779  Shooting Permit 2023-01-20 11:30:00 2023-01-21 01:00:00  Manhattan   \n",
       "11060  Shooting Permit 2023-01-20 12:00:00 2023-01-21 02:00:00     Queens   \n",
       "13451  Shooting Permit 2023-01-20 12:00:00 2023-01-20 23:00:00  Manhattan   \n",
       "13500  Shooting Permit 2023-01-20 13:00:00 2023-01-21 03:00:00  Manhattan   \n",
       "\n",
       "         Category  SubCategoryName  \n",
       "13288  Television  Episodic series  \n",
       "12779  Television  Episodic series  \n",
       "11060  Television  Episodic series  \n",
       "13451  Television  Episodic series  \n",
       "13500  Television   Cable-episodic  "
      ]
     },
     "execution_count": 4,
     "metadata": {},
     "output_type": "execute_result"
    }
   ],
   "source": [
    "df.tail(5)"
   ]
  },
  {
   "cell_type": "code",
   "execution_count": 5,
   "metadata": {},
   "outputs": [],
   "source": [
    "df_Borough = df.drop(columns=[\"StartDateTime\", \"EventType\", \"EndDateTime\", \"Category\", \"SubCategoryName\"])"
   ]
  },
  {
   "attachments": {},
   "cell_type": "markdown",
   "metadata": {},
   "source": [
    "Here, I dropped additional columns so that I could just have the Boroughs listed. So that I could get the value counts and then create a new csv with this data. I would then use this csv to create my first chart in DataWrapper. "
   ]
  },
  {
   "cell_type": "code",
   "execution_count": 6,
   "metadata": {},
   "outputs": [],
   "source": [
    "df_Borough = df_Borough.Borough.value_counts()"
   ]
  },
  {
   "cell_type": "code",
   "execution_count": 7,
   "metadata": {},
   "outputs": [],
   "source": [
    "df_Borough.to_csv(\"DataBoroughs.csv\")"
   ]
  },
  {
   "cell_type": "code",
   "execution_count": 8,
   "metadata": {},
   "outputs": [
    {
     "data": {
      "text/plain": [
       "EventType                  object\n",
       "StartDateTime      datetime64[ns]\n",
       "EndDateTime        datetime64[ns]\n",
       "Borough                    object\n",
       "Category                   object\n",
       "SubCategoryName            object\n",
       "dtype: object"
      ]
     },
     "execution_count": 8,
     "metadata": {},
     "output_type": "execute_result"
    }
   ],
   "source": [
    "df.dtypes"
   ]
  },
  {
   "cell_type": "code",
   "execution_count": 9,
   "metadata": {},
   "outputs": [
    {
     "data": {
      "text/html": [
       "<div>\n",
       "<style scoped>\n",
       "    .dataframe tbody tr th:only-of-type {\n",
       "        vertical-align: middle;\n",
       "    }\n",
       "\n",
       "    .dataframe tbody tr th {\n",
       "        vertical-align: top;\n",
       "    }\n",
       "\n",
       "    .dataframe thead th {\n",
       "        text-align: right;\n",
       "    }\n",
       "</style>\n",
       "<table border=\"1\" class=\"dataframe\">\n",
       "  <thead>\n",
       "    <tr style=\"text-align: right;\">\n",
       "      <th></th>\n",
       "      <th>StartDateTime</th>\n",
       "    </tr>\n",
       "  </thead>\n",
       "  <tbody>\n",
       "    <tr>\n",
       "      <th>2320</th>\n",
       "      <td>2021-01-04 00:01:00</td>\n",
       "    </tr>\n",
       "    <tr>\n",
       "      <th>2321</th>\n",
       "      <td>2021-01-04 06:00:00</td>\n",
       "    </tr>\n",
       "    <tr>\n",
       "      <th>2322</th>\n",
       "      <td>2021-01-04 06:30:00</td>\n",
       "    </tr>\n",
       "    <tr>\n",
       "      <th>2319</th>\n",
       "      <td>2021-01-04 07:00:00</td>\n",
       "    </tr>\n",
       "    <tr>\n",
       "      <th>2323</th>\n",
       "      <td>2021-01-04 07:00:00</td>\n",
       "    </tr>\n",
       "    <tr>\n",
       "      <th>...</th>\n",
       "      <td>...</td>\n",
       "    </tr>\n",
       "    <tr>\n",
       "      <th>13288</th>\n",
       "      <td>2023-01-20 10:00:00</td>\n",
       "    </tr>\n",
       "    <tr>\n",
       "      <th>12779</th>\n",
       "      <td>2023-01-20 11:30:00</td>\n",
       "    </tr>\n",
       "    <tr>\n",
       "      <th>11060</th>\n",
       "      <td>2023-01-20 12:00:00</td>\n",
       "    </tr>\n",
       "    <tr>\n",
       "      <th>13451</th>\n",
       "      <td>2023-01-20 12:00:00</td>\n",
       "    </tr>\n",
       "    <tr>\n",
       "      <th>13500</th>\n",
       "      <td>2023-01-20 13:00:00</td>\n",
       "    </tr>\n",
       "  </tbody>\n",
       "</table>\n",
       "<p>13630 rows × 1 columns</p>\n",
       "</div>"
      ],
      "text/plain": [
       "            StartDateTime\n",
       "2320  2021-01-04 00:01:00\n",
       "2321  2021-01-04 06:00:00\n",
       "2322  2021-01-04 06:30:00\n",
       "2319  2021-01-04 07:00:00\n",
       "2323  2021-01-04 07:00:00\n",
       "...                   ...\n",
       "13288 2023-01-20 10:00:00\n",
       "12779 2023-01-20 11:30:00\n",
       "11060 2023-01-20 12:00:00\n",
       "13451 2023-01-20 12:00:00\n",
       "13500 2023-01-20 13:00:00\n",
       "\n",
       "[13630 rows x 1 columns]"
      ]
     },
     "execution_count": 9,
     "metadata": {},
     "output_type": "execute_result"
    }
   ],
   "source": [
    "df_months = df.drop(columns=[\"EndDateTime\", \"SubCategoryName\", \"EventType\", \"Category\", \"Borough\"])\n",
    "df_months"
   ]
  },
  {
   "attachments": {},
   "cell_type": "markdown",
   "metadata": {},
   "source": [
    "Here, I created a new df and then dropped all columns from it except for the StartDateTime."
   ]
  },
  {
   "cell_type": "code",
   "execution_count": 10,
   "metadata": {},
   "outputs": [
    {
     "name": "stdout",
     "output_type": "stream",
     "text": [
      "      Month_Year\n",
      "2320     2021-01\n",
      "2321     2021-01\n",
      "2322     2021-01\n",
      "2319     2021-01\n",
      "2323     2021-01\n",
      "...          ...\n",
      "13288    2023-01\n",
      "12779    2023-01\n",
      "11060    2023-01\n",
      "13451    2023-01\n",
      "13500    2023-01\n",
      "\n",
      "[13630 rows x 1 columns]\n"
     ]
    }
   ],
   "source": [
    "df_months['Month_Year'] = df_months['StartDateTime'].dt.to_period('M')\n",
    "df_months = df_months.drop(columns=['StartDateTime'])\n",
    "print(df_months)"
   ]
  },
  {
   "attachments": {},
   "cell_type": "markdown",
   "metadata": {},
   "source": [
    "Here, I dropped the day in the date.time format so that I could just have the months and the years. "
   ]
  },
  {
   "cell_type": "code",
   "execution_count": 11,
   "metadata": {},
   "outputs": [],
   "source": [
    "df_months = df_months.value_counts()"
   ]
  },
  {
   "cell_type": "code",
   "execution_count": 12,
   "metadata": {},
   "outputs": [],
   "source": [
    "df_months.to_csv('bymonth.csv')"
   ]
  },
  {
   "attachments": {},
   "cell_type": "markdown",
   "metadata": {},
   "source": [
    "This newly created df, of the value counts of df_months, was used for my second chart in DataWrapper. "
   ]
  }
 ],
 "metadata": {
  "kernelspec": {
   "display_name": "Python 3",
   "language": "python",
   "name": "python3"
  },
  "language_info": {
   "codemirror_mode": {
    "name": "ipython",
    "version": 3
   },
   "file_extension": ".py",
   "mimetype": "text/x-python",
   "name": "python",
   "nbconvert_exporter": "python",
   "pygments_lexer": "ipython3",
   "version": "3.10.11"
  },
  "orig_nbformat": 4
 },
 "nbformat": 4,
 "nbformat_minor": 2
}
