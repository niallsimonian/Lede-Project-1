{
 "cells": [
  {
   "cell_type": "code",
   "execution_count": 71,
   "metadata": {},
   "outputs": [],
   "source": [
    "import pandas as pd"
   ]
  },
  {
   "cell_type": "code",
   "execution_count": 72,
   "metadata": {},
   "outputs": [
    {
     "data": {
      "text/plain": [
       "EventID               int64\n",
       "EventType            object\n",
       "StartDateTime        object\n",
       "EndDateTime          object\n",
       "EnteredOn            object\n",
       "EventAgency          object\n",
       "ParkingHeld          object\n",
       "Borough              object\n",
       "CommunityBoard(s)    object\n",
       "PolicePrecinct(s)    object\n",
       "Category             object\n",
       "SubCategoryName      object\n",
       "Country              object\n",
       "ZipCode(s)           object\n",
       "dtype: object"
      ]
     },
     "execution_count": 72,
     "metadata": {},
     "output_type": "execute_result"
    }
   ],
   "source": [
    "df = pd.read_csv('Film_Permits.csv')\n",
    "df.dtypes"
   ]
  },
  {
   "cell_type": "code",
   "execution_count": 73,
   "metadata": {},
   "outputs": [
    {
     "name": "stderr",
     "output_type": "stream",
     "text": [
      "/var/folders/7t/y824w4qx4hn59wfbz7sntshr0000gn/T/ipykernel_62264/3728984276.py:2: UserWarning: Could not infer format, so each element will be parsed individually, falling back to `dateutil`. To ensure parsing is consistent and as-expected, please specify a format.\n",
      "  df['EndDateTime'] = pd.to_datetime(df['EndDateTime'])\n"
     ]
    }
   ],
   "source": [
    "df['StartDateTime'] = pd.to_datetime(df['StartDateTime'])\n",
    "df['EndDateTime'] = pd.to_datetime(df['EndDateTime'])\n",
    "df = df.sort_values(by='StartDateTime')\n",
    "df = df.drop(columns=[\"ZipCode(s)\", \"EnteredOn\", \"EventAgency\", \"ParkingHeld\",\"CommunityBoard(s)\", \"PolicePrecinct(s)\", \"Country\", \"EventID\"])"
   ]
  },
  {
   "cell_type": "code",
   "execution_count": 74,
   "metadata": {},
   "outputs": [
    {
     "data": {
      "text/html": [
       "<div>\n",
       "<style scoped>\n",
       "    .dataframe tbody tr th:only-of-type {\n",
       "        vertical-align: middle;\n",
       "    }\n",
       "\n",
       "    .dataframe tbody tr th {\n",
       "        vertical-align: top;\n",
       "    }\n",
       "\n",
       "    .dataframe thead th {\n",
       "        text-align: right;\n",
       "    }\n",
       "</style>\n",
       "<table border=\"1\" class=\"dataframe\">\n",
       "  <thead>\n",
       "    <tr style=\"text-align: right;\">\n",
       "      <th></th>\n",
       "      <th>EventType</th>\n",
       "      <th>StartDateTime</th>\n",
       "      <th>EndDateTime</th>\n",
       "      <th>Borough</th>\n",
       "      <th>Category</th>\n",
       "      <th>SubCategoryName</th>\n",
       "    </tr>\n",
       "  </thead>\n",
       "  <tbody>\n",
       "    <tr>\n",
       "      <th>2320</th>\n",
       "      <td>Shooting Permit</td>\n",
       "      <td>2021-01-04 00:01:00</td>\n",
       "      <td>2021-12-31 23:59:00</td>\n",
       "      <td>Manhattan</td>\n",
       "      <td>Television</td>\n",
       "      <td>Talk Show</td>\n",
       "    </tr>\n",
       "    <tr>\n",
       "      <th>2321</th>\n",
       "      <td>Shooting Permit</td>\n",
       "      <td>2021-01-04 06:00:00</td>\n",
       "      <td>2021-01-04 20:00:00</td>\n",
       "      <td>Brooklyn</td>\n",
       "      <td>Television</td>\n",
       "      <td>Cable-episodic</td>\n",
       "    </tr>\n",
       "    <tr>\n",
       "      <th>2322</th>\n",
       "      <td>Shooting Permit</td>\n",
       "      <td>2021-01-04 06:30:00</td>\n",
       "      <td>2021-01-04 21:00:00</td>\n",
       "      <td>Brooklyn</td>\n",
       "      <td>Television</td>\n",
       "      <td>Episodic series</td>\n",
       "    </tr>\n",
       "    <tr>\n",
       "      <th>2319</th>\n",
       "      <td>Shooting Permit</td>\n",
       "      <td>2021-01-04 07:00:00</td>\n",
       "      <td>2021-01-04 23:00:00</td>\n",
       "      <td>Queens</td>\n",
       "      <td>Television</td>\n",
       "      <td>Episodic series</td>\n",
       "    </tr>\n",
       "    <tr>\n",
       "      <th>2323</th>\n",
       "      <td>Shooting Permit</td>\n",
       "      <td>2021-01-04 07:00:00</td>\n",
       "      <td>2021-01-04 21:00:00</td>\n",
       "      <td>Brooklyn</td>\n",
       "      <td>Television</td>\n",
       "      <td>Episodic series</td>\n",
       "    </tr>\n",
       "  </tbody>\n",
       "</table>\n",
       "</div>"
      ],
      "text/plain": [
       "            EventType       StartDateTime         EndDateTime    Borough  \\\n",
       "2320  Shooting Permit 2021-01-04 00:01:00 2021-12-31 23:59:00  Manhattan   \n",
       "2321  Shooting Permit 2021-01-04 06:00:00 2021-01-04 20:00:00   Brooklyn   \n",
       "2322  Shooting Permit 2021-01-04 06:30:00 2021-01-04 21:00:00   Brooklyn   \n",
       "2319  Shooting Permit 2021-01-04 07:00:00 2021-01-04 23:00:00     Queens   \n",
       "2323  Shooting Permit 2021-01-04 07:00:00 2021-01-04 21:00:00   Brooklyn   \n",
       "\n",
       "        Category  SubCategoryName  \n",
       "2320  Television        Talk Show  \n",
       "2321  Television   Cable-episodic  \n",
       "2322  Television  Episodic series  \n",
       "2319  Television  Episodic series  \n",
       "2323  Television  Episodic series  "
      ]
     },
     "execution_count": 74,
     "metadata": {},
     "output_type": "execute_result"
    }
   ],
   "source": [
    "df.head(5)"
   ]
  },
  {
   "cell_type": "code",
   "execution_count": 75,
   "metadata": {},
   "outputs": [],
   "source": [
    "df_Borough = df.drop(columns=[\"StartDateTime\", \"EventType\", \"EndDateTime\", \"Category\", \"SubCategoryName\"])"
   ]
  },
  {
   "cell_type": "code",
   "execution_count": 79,
   "metadata": {},
   "outputs": [],
   "source": [
    "df_Borough = df_Borough.Borough.value_counts()"
   ]
  },
  {
   "cell_type": "code",
   "execution_count": 81,
   "metadata": {},
   "outputs": [],
   "source": [
    "df_Borough.to_csv(\"DataBoroughs.csv\")"
   ]
  }
 ],
 "metadata": {
  "kernelspec": {
   "display_name": "Python 3",
   "language": "python",
   "name": "python3"
  },
  "language_info": {
   "codemirror_mode": {
    "name": "ipython",
    "version": 3
   },
   "file_extension": ".py",
   "mimetype": "text/x-python",
   "name": "python",
   "nbconvert_exporter": "python",
   "pygments_lexer": "ipython3",
   "version": "3.10.11"
  },
  "orig_nbformat": 4
 },
 "nbformat": 4,
 "nbformat_minor": 2
}
