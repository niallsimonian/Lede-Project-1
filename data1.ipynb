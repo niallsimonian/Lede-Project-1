{
 "cells": [
  {
   "cell_type": "code",
   "execution_count": 2,
   "metadata": {},
   "outputs": [],
   "source": [
    "import pandas as pd"
   ]
  },
  {
   "cell_type": "code",
   "execution_count": 3,
   "metadata": {},
   "outputs": [
    {
     "data": {
      "text/plain": [
       "EventID               int64\n",
       "EventType            object\n",
       "StartDateTime        object\n",
       "EndDateTime          object\n",
       "EnteredOn            object\n",
       "EventAgency          object\n",
       "ParkingHeld          object\n",
       "Borough              object\n",
       "CommunityBoard(s)    object\n",
       "PolicePrecinct(s)    object\n",
       "Category             object\n",
       "SubCategoryName      object\n",
       "Country              object\n",
       "ZipCode(s)           object\n",
       "dtype: object"
      ]
     },
     "execution_count": 3,
     "metadata": {},
     "output_type": "execute_result"
    }
   ],
   "source": [
    "df = pd.read_csv('Film_Permits.csv')\n",
    "df.dtypes"
   ]
  },
  {
   "cell_type": "code",
   "execution_count": 4,
   "metadata": {},
   "outputs": [
    {
     "name": "stderr",
     "output_type": "stream",
     "text": [
      "/var/folders/7t/y824w4qx4hn59wfbz7sntshr0000gn/T/ipykernel_18693/3728984276.py:2: UserWarning: Could not infer format, so each element will be parsed individually, falling back to `dateutil`. To ensure parsing is consistent and as-expected, please specify a format.\n",
      "  df['EndDateTime'] = pd.to_datetime(df['EndDateTime'])\n"
     ]
    }
   ],
   "source": [
    "df['StartDateTime'] = pd.to_datetime(df['StartDateTime'])\n",
    "df['EndDateTime'] = pd.to_datetime(df['EndDateTime'])\n",
    "df = df.sort_values(by='StartDateTime')\n",
    "df = df.drop(columns=[\"ZipCode(s)\", \"EnteredOn\", \"EventAgency\", \"ParkingHeld\",\"CommunityBoard(s)\", \"PolicePrecinct(s)\", \"Country\", \"EventID\"])"
   ]
  },
  {
   "cell_type": "code",
   "execution_count": 34,
   "metadata": {},
   "outputs": [
    {
     "data": {
      "text/html": [
       "<div>\n",
       "<style scoped>\n",
       "    .dataframe tbody tr th:only-of-type {\n",
       "        vertical-align: middle;\n",
       "    }\n",
       "\n",
       "    .dataframe tbody tr th {\n",
       "        vertical-align: top;\n",
       "    }\n",
       "\n",
       "    .dataframe thead th {\n",
       "        text-align: right;\n",
       "    }\n",
       "</style>\n",
       "<table border=\"1\" class=\"dataframe\">\n",
       "  <thead>\n",
       "    <tr style=\"text-align: right;\">\n",
       "      <th></th>\n",
       "      <th>EventType</th>\n",
       "      <th>StartDateTime</th>\n",
       "      <th>EndDateTime</th>\n",
       "      <th>Borough</th>\n",
       "      <th>Category</th>\n",
       "      <th>SubCategoryName</th>\n",
       "    </tr>\n",
       "  </thead>\n",
       "  <tbody>\n",
       "    <tr>\n",
       "      <th>13288</th>\n",
       "      <td>Shooting Permit</td>\n",
       "      <td>2023-01-20 10:00:00</td>\n",
       "      <td>2023-01-20 23:00:00</td>\n",
       "      <td>Queens</td>\n",
       "      <td>Television</td>\n",
       "      <td>Episodic series</td>\n",
       "    </tr>\n",
       "    <tr>\n",
       "      <th>12779</th>\n",
       "      <td>Shooting Permit</td>\n",
       "      <td>2023-01-20 11:30:00</td>\n",
       "      <td>2023-01-21 01:00:00</td>\n",
       "      <td>Manhattan</td>\n",
       "      <td>Television</td>\n",
       "      <td>Episodic series</td>\n",
       "    </tr>\n",
       "    <tr>\n",
       "      <th>11060</th>\n",
       "      <td>Shooting Permit</td>\n",
       "      <td>2023-01-20 12:00:00</td>\n",
       "      <td>2023-01-21 02:00:00</td>\n",
       "      <td>Queens</td>\n",
       "      <td>Television</td>\n",
       "      <td>Episodic series</td>\n",
       "    </tr>\n",
       "    <tr>\n",
       "      <th>13451</th>\n",
       "      <td>Shooting Permit</td>\n",
       "      <td>2023-01-20 12:00:00</td>\n",
       "      <td>2023-01-20 23:00:00</td>\n",
       "      <td>Manhattan</td>\n",
       "      <td>Television</td>\n",
       "      <td>Episodic series</td>\n",
       "    </tr>\n",
       "    <tr>\n",
       "      <th>13500</th>\n",
       "      <td>Shooting Permit</td>\n",
       "      <td>2023-01-20 13:00:00</td>\n",
       "      <td>2023-01-21 03:00:00</td>\n",
       "      <td>Manhattan</td>\n",
       "      <td>Television</td>\n",
       "      <td>Cable-episodic</td>\n",
       "    </tr>\n",
       "  </tbody>\n",
       "</table>\n",
       "</div>"
      ],
      "text/plain": [
       "             EventType       StartDateTime         EndDateTime    Borough  \\\n",
       "13288  Shooting Permit 2023-01-20 10:00:00 2023-01-20 23:00:00     Queens   \n",
       "12779  Shooting Permit 2023-01-20 11:30:00 2023-01-21 01:00:00  Manhattan   \n",
       "11060  Shooting Permit 2023-01-20 12:00:00 2023-01-21 02:00:00     Queens   \n",
       "13451  Shooting Permit 2023-01-20 12:00:00 2023-01-20 23:00:00  Manhattan   \n",
       "13500  Shooting Permit 2023-01-20 13:00:00 2023-01-21 03:00:00  Manhattan   \n",
       "\n",
       "         Category  SubCategoryName  \n",
       "13288  Television  Episodic series  \n",
       "12779  Television  Episodic series  \n",
       "11060  Television  Episodic series  \n",
       "13451  Television  Episodic series  \n",
       "13500  Television   Cable-episodic  "
      ]
     },
     "execution_count": 34,
     "metadata": {},
     "output_type": "execute_result"
    }
   ],
   "source": [
    "df.tail(5)"
   ]
  },
  {
   "cell_type": "code",
   "execution_count": 6,
   "metadata": {},
   "outputs": [],
   "source": [
    "df_Borough = df.drop(columns=[\"StartDateTime\", \"EventType\", \"EndDateTime\", \"Category\", \"SubCategoryName\"])"
   ]
  },
  {
   "cell_type": "code",
   "execution_count": 7,
   "metadata": {},
   "outputs": [],
   "source": [
    "df_Borough = df_Borough.Borough.value_counts()"
   ]
  },
  {
   "cell_type": "code",
   "execution_count": 8,
   "metadata": {},
   "outputs": [],
   "source": [
    "df_Borough.to_csv(\"DataBoroughs.csv\")"
   ]
  },
  {
   "cell_type": "code",
   "execution_count": 29,
   "metadata": {},
   "outputs": [],
   "source": [
    "df_sub= df.drop(columns=[\"StartDateTime\", \"EventType\", \"EndDateTime\", \"Category\", \"Borough\"])"
   ]
  },
  {
   "cell_type": "code",
   "execution_count": 30,
   "metadata": {},
   "outputs": [],
   "source": [
    "df_sub = df_sub.value_counts()"
   ]
  },
  {
   "cell_type": "code",
   "execution_count": 32,
   "metadata": {},
   "outputs": [],
   "source": [
    "df_sub.to_csv(\"sub.csv\")"
   ]
  },
  {
   "cell_type": "code",
   "execution_count": 33,
   "metadata": {},
   "outputs": [
    {
     "data": {
      "text/plain": [
       "EventType                  object\n",
       "StartDateTime      datetime64[ns]\n",
       "EndDateTime        datetime64[ns]\n",
       "Borough                    object\n",
       "Category                   object\n",
       "SubCategoryName            object\n",
       "dtype: object"
      ]
     },
     "execution_count": 33,
     "metadata": {},
     "output_type": "execute_result"
    }
   ],
   "source": [
    "df.dtypes"
   ]
  }
 ],
 "metadata": {
  "kernelspec": {
   "display_name": "Python 3",
   "language": "python",
   "name": "python3"
  },
  "language_info": {
   "codemirror_mode": {
    "name": "ipython",
    "version": 3
   },
   "file_extension": ".py",
   "mimetype": "text/x-python",
   "name": "python",
   "nbconvert_exporter": "python",
   "pygments_lexer": "ipython3",
   "version": "3.10.11"
  },
  "orig_nbformat": 4
 },
 "nbformat": 4,
 "nbformat_minor": 2
}
